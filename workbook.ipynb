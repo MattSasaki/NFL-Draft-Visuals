{
 "cells": [
  {
   "cell_type": "code",
   "execution_count": 2,
   "id": "c5ed98ab-58ec-483c-af43-a5bcf9d9c7a0",
   "metadata": {},
   "outputs": [],
   "source": [
    "\n",
    "\n",
    "years = list(range(1994, 2022))"
   ]
  },
  {
   "cell_type": "code",
   "execution_count": 3,
   "id": "a938c125-544f-4cd0-8a13-a8c2bd15fe92",
   "metadata": {},
   "outputs": [],
   "source": [
    "url_start = \"https://www.pro-football-reference.com/years/{}/draft.htm\""
   ]
  },
  {
   "cell_type": "code",
   "execution_count": 4,
   "id": "bad41f4f-1718-48f3-8184-40e834a1d744",
   "metadata": {},
   "outputs": [],
   "source": [
    "import requests\n",
    "\n",
    "for year in years:\n",
    "    url = url_start.format(year)\n",
    "    data = requests.get(url)\n",
    "    \n",
    "    with open(\"draft/{}.html\".format(year), \"w+\") as f:\n",
    "        f.write(data.text)"
   ]
  },
  {
   "cell_type": "code",
   "execution_count": 5,
   "id": "d9a6a4aa-c3ba-4135-8991-73dddcc10907",
   "metadata": {},
   "outputs": [],
   "source": [
    "from bs4 import BeautifulSoup"
   ]
  },
  {
   "cell_type": "code",
   "execution_count": 6,
   "id": "f9cdcc77-1533-4b1d-9dac-f23bf1cfd870",
   "metadata": {},
   "outputs": [],
   "source": [
    "import pandas as pd"
   ]
  },
  {
   "cell_type": "code",
   "execution_count": 7,
   "id": "d1d8d7c2-a6b7-486a-b5ee-972354f8fed9",
   "metadata": {},
   "outputs": [],
   "source": [
    "dfs = []\n",
    "for year in years:\n",
    "    with open(\"draft/{}.html\".format(year)) as f:\n",
    "        page = f.read()\n",
    "    soup = BeautifulSoup(page, \"html.parser\")\n",
    "    soup.find('tr', class_='over_header').decompose()\n",
    "    draft_table = soup.find(id='drafts')\n",
    "    draft = pd.read_html(str(draft_table))[0]\n",
    "    draft['Year'] = year\n",
    "    \n",
    "    dfs.append(draft)"
   ]
  },
  {
   "cell_type": "code",
   "execution_count": 8,
   "id": "bd46e279-25d8-4fc7-a1ac-4265e12cb210",
   "metadata": {},
   "outputs": [],
   "source": [
    "drafts = pd.concat(dfs)"
   ]
  },
  {
   "cell_type": "code",
   "execution_count": 9,
   "id": "63e81643-9a9d-45a3-9216-177b60ea8e2a",
   "metadata": {},
   "outputs": [
    {
     "data": {
      "text/html": [
       "<div>\n",
       "<style scoped>\n",
       "    .dataframe tbody tr th:only-of-type {\n",
       "        vertical-align: middle;\n",
       "    }\n",
       "\n",
       "    .dataframe tbody tr th {\n",
       "        vertical-align: top;\n",
       "    }\n",
       "\n",
       "    .dataframe thead th {\n",
       "        text-align: right;\n",
       "    }\n",
       "</style>\n",
       "<table border=\"1\" class=\"dataframe\">\n",
       "  <thead>\n",
       "    <tr style=\"text-align: right;\">\n",
       "      <th></th>\n",
       "      <th>Rnd</th>\n",
       "      <th>Pick</th>\n",
       "      <th>Tm</th>\n",
       "      <th>Player</th>\n",
       "      <th>Pos</th>\n",
       "      <th>Age</th>\n",
       "      <th>To</th>\n",
       "      <th>AP1</th>\n",
       "      <th>PB</th>\n",
       "      <th>St</th>\n",
       "      <th>wAV</th>\n",
       "      <th>DrAV</th>\n",
       "      <th>G</th>\n",
       "      <th>Cmp</th>\n",
       "      <th>Att</th>\n",
       "      <th>Yds</th>\n",
       "      <th>TD</th>\n",
       "      <th>Int</th>\n",
       "      <th>Att.1</th>\n",
       "      <th>Yds.1</th>\n",
       "      <th>TD.1</th>\n",
       "      <th>Rec</th>\n",
       "      <th>Yds.2</th>\n",
       "      <th>TD.2</th>\n",
       "      <th>Solo</th>\n",
       "      <th>Int.1</th>\n",
       "      <th>Sk</th>\n",
       "      <th>College/Univ</th>\n",
       "      <th>Unnamed: 28</th>\n",
       "      <th>Year</th>\n",
       "    </tr>\n",
       "  </thead>\n",
       "  <tbody>\n",
       "    <tr>\n",
       "      <th>0</th>\n",
       "      <td>1</td>\n",
       "      <td>1</td>\n",
       "      <td>CIN</td>\n",
       "      <td>Dan Wilkinson</td>\n",
       "      <td>DT</td>\n",
       "      <td>21</td>\n",
       "      <td>2006</td>\n",
       "      <td>0</td>\n",
       "      <td>0</td>\n",
       "      <td>12</td>\n",
       "      <td>60</td>\n",
       "      <td>17</td>\n",
       "      <td>195</td>\n",
       "      <td>0</td>\n",
       "      <td>0</td>\n",
       "      <td>0</td>\n",
       "      <td>0</td>\n",
       "      <td>0</td>\n",
       "      <td>0</td>\n",
       "      <td>0</td>\n",
       "      <td>0</td>\n",
       "      <td>0</td>\n",
       "      <td>0</td>\n",
       "      <td>0</td>\n",
       "      <td>302</td>\n",
       "      <td>5</td>\n",
       "      <td>54.5</td>\n",
       "      <td>Ohio St.</td>\n",
       "      <td>College Stats</td>\n",
       "      <td>1994</td>\n",
       "    </tr>\n",
       "    <tr>\n",
       "      <th>1</th>\n",
       "      <td>1</td>\n",
       "      <td>2</td>\n",
       "      <td>IND</td>\n",
       "      <td>Marshall Faulk HOF</td>\n",
       "      <td>RB</td>\n",
       "      <td>21</td>\n",
       "      <td>2005</td>\n",
       "      <td>3</td>\n",
       "      <td>7</td>\n",
       "      <td>11</td>\n",
       "      <td>132</td>\n",
       "      <td>51</td>\n",
       "      <td>176</td>\n",
       "      <td>0</td>\n",
       "      <td>2</td>\n",
       "      <td>0</td>\n",
       "      <td>0</td>\n",
       "      <td>0</td>\n",
       "      <td>2836</td>\n",
       "      <td>12279</td>\n",
       "      <td>100</td>\n",
       "      <td>767</td>\n",
       "      <td>6875</td>\n",
       "      <td>36</td>\n",
       "      <td>NaN</td>\n",
       "      <td>NaN</td>\n",
       "      <td>NaN</td>\n",
       "      <td>San Diego St.</td>\n",
       "      <td>College Stats</td>\n",
       "      <td>1994</td>\n",
       "    </tr>\n",
       "    <tr>\n",
       "      <th>2</th>\n",
       "      <td>1</td>\n",
       "      <td>3</td>\n",
       "      <td>WAS</td>\n",
       "      <td>Heath Shuler</td>\n",
       "      <td>QB</td>\n",
       "      <td>22</td>\n",
       "      <td>1997</td>\n",
       "      <td>0</td>\n",
       "      <td>0</td>\n",
       "      <td>2</td>\n",
       "      <td>6</td>\n",
       "      <td>7</td>\n",
       "      <td>29</td>\n",
       "      <td>292</td>\n",
       "      <td>593</td>\n",
       "      <td>3691</td>\n",
       "      <td>15</td>\n",
       "      <td>33</td>\n",
       "      <td>67</td>\n",
       "      <td>198</td>\n",
       "      <td>1</td>\n",
       "      <td>0</td>\n",
       "      <td>0</td>\n",
       "      <td>0</td>\n",
       "      <td>NaN</td>\n",
       "      <td>NaN</td>\n",
       "      <td>NaN</td>\n",
       "      <td>Tennessee</td>\n",
       "      <td>College Stats</td>\n",
       "      <td>1994</td>\n",
       "    </tr>\n",
       "    <tr>\n",
       "      <th>3</th>\n",
       "      <td>1</td>\n",
       "      <td>4</td>\n",
       "      <td>NWE</td>\n",
       "      <td>Willie McGinest</td>\n",
       "      <td>DE</td>\n",
       "      <td>22</td>\n",
       "      <td>2008</td>\n",
       "      <td>0</td>\n",
       "      <td>2</td>\n",
       "      <td>13</td>\n",
       "      <td>76</td>\n",
       "      <td>68</td>\n",
       "      <td>212</td>\n",
       "      <td>0</td>\n",
       "      <td>0</td>\n",
       "      <td>0</td>\n",
       "      <td>0</td>\n",
       "      <td>0</td>\n",
       "      <td>0</td>\n",
       "      <td>0</td>\n",
       "      <td>0</td>\n",
       "      <td>0</td>\n",
       "      <td>0</td>\n",
       "      <td>0</td>\n",
       "      <td>581</td>\n",
       "      <td>5</td>\n",
       "      <td>86.0</td>\n",
       "      <td>USC</td>\n",
       "      <td>NaN</td>\n",
       "      <td>1994</td>\n",
       "    </tr>\n",
       "    <tr>\n",
       "      <th>4</th>\n",
       "      <td>1</td>\n",
       "      <td>5</td>\n",
       "      <td>IND</td>\n",
       "      <td>Trev Alberts</td>\n",
       "      <td>LB</td>\n",
       "      <td>24</td>\n",
       "      <td>1996</td>\n",
       "      <td>0</td>\n",
       "      <td>0</td>\n",
       "      <td>0</td>\n",
       "      <td>4</td>\n",
       "      <td>4</td>\n",
       "      <td>29</td>\n",
       "      <td>0</td>\n",
       "      <td>0</td>\n",
       "      <td>0</td>\n",
       "      <td>0</td>\n",
       "      <td>0</td>\n",
       "      <td>0</td>\n",
       "      <td>0</td>\n",
       "      <td>0</td>\n",
       "      <td>0</td>\n",
       "      <td>0</td>\n",
       "      <td>0</td>\n",
       "      <td>49</td>\n",
       "      <td>1</td>\n",
       "      <td>4.0</td>\n",
       "      <td>Nebraska</td>\n",
       "      <td>College Stats</td>\n",
       "      <td>1994</td>\n",
       "    </tr>\n",
       "  </tbody>\n",
       "</table>\n",
       "</div>"
      ],
      "text/plain": [
       "  Rnd Pick   Tm              Player Pos Age    To AP1 PB  St  wAV DrAV    G  \\\n",
       "0   1    1  CIN       Dan Wilkinson  DT  21  2006   0  0  12   60   17  195   \n",
       "1   1    2  IND  Marshall Faulk HOF  RB  21  2005   3  7  11  132   51  176   \n",
       "2   1    3  WAS        Heath Shuler  QB  22  1997   0  0   2    6    7   29   \n",
       "3   1    4  NWE     Willie McGinest  DE  22  2008   0  2  13   76   68  212   \n",
       "4   1    5  IND        Trev Alberts  LB  24  1996   0  0   0    4    4   29   \n",
       "\n",
       "   Cmp  Att   Yds  TD Int Att.1  Yds.1 TD.1  Rec Yds.2 TD.2 Solo Int.1    Sk  \\\n",
       "0    0    0     0   0   0     0      0    0    0     0    0  302     5  54.5   \n",
       "1    0    2     0   0   0  2836  12279  100  767  6875   36  NaN   NaN   NaN   \n",
       "2  292  593  3691  15  33    67    198    1    0     0    0  NaN   NaN   NaN   \n",
       "3    0    0     0   0   0     0      0    0    0     0    0  581     5  86.0   \n",
       "4    0    0     0   0   0     0      0    0    0     0    0   49     1   4.0   \n",
       "\n",
       "    College/Univ    Unnamed: 28  Year  \n",
       "0       Ohio St.  College Stats  1994  \n",
       "1  San Diego St.  College Stats  1994  \n",
       "2      Tennessee  College Stats  1994  \n",
       "3            USC            NaN  1994  \n",
       "4       Nebraska  College Stats  1994  "
      ]
     },
     "execution_count": 9,
     "metadata": {},
     "output_type": "execute_result"
    }
   ],
   "source": [
    "pd.set_option('display.max_columns', None)\n",
    "pd.set_option('display.max_rows', None)\n",
    "drafts.head()\n"
   ]
  },
  {
   "cell_type": "code",
   "execution_count": 10,
   "id": "663ab148-c841-4b27-bb0e-6192e104fc84",
   "metadata": {},
   "outputs": [],
   "source": [
    "drafts = drafts[drafts['wAV'].notna()]\n",
    "drafts = drafts.reset_index()"
   ]
  },
  {
   "cell_type": "code",
   "execution_count": 11,
   "id": "68abdb10-f3b9-48f0-a1ca-bee4d2b1e1f7",
   "metadata": {},
   "outputs": [],
   "source": [
    "drafts = drafts[drafts['wAV'] != 'wAV']"
   ]
  },
  {
   "cell_type": "code",
   "execution_count": 12,
   "id": "338ea24a-f2e3-488a-8a41-2917c75f21e8",
   "metadata": {},
   "outputs": [],
   "source": [
    "drafts['wAV'] = drafts['wAV'].astype(float)"
   ]
  },
  {
   "cell_type": "markdown",
   "id": "dba07341-64c2-4970-beea-fc7ddf588b36",
   "metadata": {},
   "source": [
    "## Highest Average wAV values"
   ]
  },
  {
   "cell_type": "code",
   "execution_count": 13,
   "id": "3e11ade5-51eb-4610-b196-4bebceceea31",
   "metadata": {},
   "outputs": [],
   "source": [
    "colleges_means = drafts.groupby(by='College/Univ')['wAV'].mean()"
   ]
  },
  {
   "cell_type": "code",
   "execution_count": 14,
   "id": "6d489e2e-f1e9-4b7b-81d9-b1299a5c2c9a",
   "metadata": {},
   "outputs": [
    {
     "data": {
      "text/plain": [
       "College/Univ\n",
       "Itawamba (MS)    70.00\n",
       "West Alabama     66.00\n",
       "Bloomsburg       57.00\n",
       "Alcorn St.       52.25\n",
       "Kutztown (PA)    52.00\n",
       "Name: wAV, dtype: float64"
      ]
     },
     "execution_count": 14,
     "metadata": {},
     "output_type": "execute_result"
    }
   ],
   "source": [
    "colleges_means.sort_values(ascending=False).head()"
   ]
  },
  {
   "cell_type": "markdown",
   "id": "06843626-637f-4339-b9c2-87cb00462c02",
   "metadata": {},
   "source": [
    "## Highest Total wAV values"
   ]
  },
  {
   "cell_type": "code",
   "execution_count": 15,
   "id": "92d3ccfd-18a4-4ae4-b31b-5dc7210550a4",
   "metadata": {},
   "outputs": [],
   "source": [
    "colleges_sums = drafts.groupby(by='College/Univ')['wAV'].sum()\n"
   ]
  },
  {
   "cell_type": "code",
   "execution_count": 16,
   "id": "070ba7c1-6929-4edf-bd6a-3eabfdfa3f08",
   "metadata": {},
   "outputs": [
    {
     "data": {
      "text/plain": [
       "College/Univ\n",
       "Miami (FL)     3067.0\n",
       "Ohio St.       3066.0\n",
       "Florida St.    3028.0\n",
       "LSU            2906.0\n",
       "Georgia        2758.0\n",
       "Name: wAV, dtype: float64"
      ]
     },
     "execution_count": 16,
     "metadata": {},
     "output_type": "execute_result"
    }
   ],
   "source": [
    "colleges_sums = colleges_sums.sort_values(ascending=False)\n",
    "colleges_sums.head()"
   ]
  },
  {
   "cell_type": "markdown",
   "id": "b28a4391-f8dc-417d-84a4-2d66ee89ef9d",
   "metadata": {},
   "source": [
    "## Most players drafted"
   ]
  },
  {
   "cell_type": "code",
   "execution_count": 17,
   "id": "8ab298cc-42ce-4b15-8abd-b9b8fc1b891d",
   "metadata": {},
   "outputs": [],
   "source": [
    "colleges_lengths = drafts.groupby(by='College/Univ').size()"
   ]
  },
  {
   "cell_type": "code",
   "execution_count": 18,
   "id": "ed5e595d-6b46-4dcd-a57e-d6cfa4e1b936",
   "metadata": {},
   "outputs": [],
   "source": [
    "colleges_lengths = colleges_lengths.sort_values(ascending=False)"
   ]
  },
  {
   "cell_type": "code",
   "execution_count": 19,
   "id": "360847d2-90e2-476b-bd16-64ba88d39df9",
   "metadata": {},
   "outputs": [],
   "source": [
    "import seaborn as sns"
   ]
  },
  {
   "cell_type": "code",
   "execution_count": 20,
   "id": "0f171f60-34d8-4435-84e9-809693423b24",
   "metadata": {},
   "outputs": [
    {
     "data": {
      "text/html": [
       "<div>\n",
       "<style scoped>\n",
       "    .dataframe tbody tr th:only-of-type {\n",
       "        vertical-align: middle;\n",
       "    }\n",
       "\n",
       "    .dataframe tbody tr th {\n",
       "        vertical-align: top;\n",
       "    }\n",
       "\n",
       "    .dataframe thead th {\n",
       "        text-align: right;\n",
       "    }\n",
       "</style>\n",
       "<table border=\"1\" class=\"dataframe\">\n",
       "  <thead>\n",
       "    <tr style=\"text-align: right;\">\n",
       "      <th></th>\n",
       "      <th>Total wAV</th>\n",
       "      <th>Total Players</th>\n",
       "      <th>Average wAV</th>\n",
       "    </tr>\n",
       "    <tr>\n",
       "      <th>College/Univ</th>\n",
       "      <th></th>\n",
       "      <th></th>\n",
       "      <th></th>\n",
       "    </tr>\n",
       "  </thead>\n",
       "  <tbody>\n",
       "    <tr>\n",
       "      <th>Harvard</th>\n",
       "      <td>196.0</td>\n",
       "      <td>5</td>\n",
       "      <td>39.200000</td>\n",
       "    </tr>\n",
       "    <tr>\n",
       "      <th>Chattanooga</th>\n",
       "      <td>172.0</td>\n",
       "      <td>5</td>\n",
       "      <td>34.400000</td>\n",
       "    </tr>\n",
       "    <tr>\n",
       "      <th>Central Michigan</th>\n",
       "      <td>297.0</td>\n",
       "      <td>10</td>\n",
       "      <td>29.700000</td>\n",
       "    </tr>\n",
       "    <tr>\n",
       "      <th>Samford</th>\n",
       "      <td>136.0</td>\n",
       "      <td>5</td>\n",
       "      <td>27.200000</td>\n",
       "    </tr>\n",
       "    <tr>\n",
       "      <th>East. Michigan</th>\n",
       "      <td>235.0</td>\n",
       "      <td>9</td>\n",
       "      <td>26.111111</td>\n",
       "    </tr>\n",
       "    <tr>\n",
       "      <th>Western Illinois</th>\n",
       "      <td>182.0</td>\n",
       "      <td>7</td>\n",
       "      <td>26.000000</td>\n",
       "    </tr>\n",
       "    <tr>\n",
       "      <th>Boston Col.</th>\n",
       "      <td>1451.0</td>\n",
       "      <td>56</td>\n",
       "      <td>25.910714</td>\n",
       "    </tr>\n",
       "    <tr>\n",
       "      <th>Purdue</th>\n",
       "      <td>1258.0</td>\n",
       "      <td>50</td>\n",
       "      <td>25.160000</td>\n",
       "    </tr>\n",
       "    <tr>\n",
       "      <th>California</th>\n",
       "      <td>2040.0</td>\n",
       "      <td>82</td>\n",
       "      <td>24.878049</td>\n",
       "    </tr>\n",
       "    <tr>\n",
       "      <th>Marshall</th>\n",
       "      <td>441.0</td>\n",
       "      <td>19</td>\n",
       "      <td>23.210526</td>\n",
       "    </tr>\n",
       "  </tbody>\n",
       "</table>\n",
       "</div>"
      ],
      "text/plain": [
       "                  Total wAV  Total Players  Average wAV\n",
       "College/Univ                                           \n",
       "Harvard               196.0              5    39.200000\n",
       "Chattanooga           172.0              5    34.400000\n",
       "Central Michigan      297.0             10    29.700000\n",
       "Samford               136.0              5    27.200000\n",
       "East. Michigan        235.0              9    26.111111\n",
       "Western Illinois      182.0              7    26.000000\n",
       "Boston Col.          1451.0             56    25.910714\n",
       "Purdue               1258.0             50    25.160000\n",
       "California           2040.0             82    24.878049\n",
       "Marshall              441.0             19    23.210526"
      ]
     },
     "execution_count": 20,
     "metadata": {},
     "output_type": "execute_result"
    }
   ],
   "source": [
    "colleges_dict = {'Total wAV': colleges_sums, 'Total Players': colleges_lengths}\n",
    "colleges_df = pd.DataFrame(colleges_dict)\n",
    "colleges_df = colleges_df.loc[colleges_df['Total Players'] >= 5]\n",
    "colleges_df['Average wAV'] = colleges_df['Total wAV'] / colleges_df['Total Players']\n",
    "colleges_df.sort_values(by='Average wAV', ascending=False).head(10)"
   ]
  },
  {
   "cell_type": "code",
   "execution_count": 21,
   "id": "4cad28c6-d890-4bdb-9997-300a6e801539",
   "metadata": {},
   "outputs": [],
   "source": [
    "colleges_sums10 = colleges_sums[0:10]"
   ]
  },
  {
   "cell_type": "code",
   "execution_count": 22,
   "id": "ce9c85e3-4273-47bb-af7a-30bbec572b4a",
   "metadata": {},
   "outputs": [
    {
     "data": {
      "text/plain": [
       "Text(0.5, 1.0, 'Total wAV per school since 1994 (top 10)')"
      ]
     },
     "execution_count": 22,
     "metadata": {},
     "output_type": "execute_result"
    },
    {
     "data": {
      "image/png": "[encoded data removed]",
      "text/plain": [
       "<Figure size 1080x576 with 1 Axes>"
      ]
     },
     "metadata": {
      "needs_background": "light"
     },
     "output_type": "display_data"
    }
   ],
   "source": [
    "import matplotlib.pyplot as plt\n",
    "plt.figure(figsize=(15,8))\n",
    "sns.barplot(x=colleges_sums10.index, y=colleges_sums10.values, palette=['green', 'red', 'maroon', 'rebeccapurple', 'red', 'red', 'maroon', 'blue', 'navy', 'orange'])\n",
    "plt.xticks(rotation=90)\n",
    "plt.ylim(2000, 3200)\n",
    "plt.title(\"Total wAV per school since 1994 (top 10)\")"
   ]
  },
  {
   "cell_type": "code",
   "execution_count": 23,
   "id": "2ad6d1dc-cee0-4f73-9c2f-46d7f4eb2e06",
   "metadata": {},
   "outputs": [],
   "source": [
    "colleges_lengths10 = colleges_lengths[0:10]"
   ]
  },
  {
   "cell_type": "code",
   "execution_count": 24,
   "id": "f8ccdcf5-e194-4d36-944e-201bbdbbc842",
   "metadata": {},
   "outputs": [
    {
     "data": {
      "text/plain": [
       "Text(0.5, 1.0, 'Number of Players drafted by per school since 1994 (top 10)')"
      ]
     },
     "execution_count": 24,
     "metadata": {},
     "output_type": "execute_result"
    },
    {
     "data": {
      "image/png": "[encoded data removed]",
      "text/plain": [
       "<Figure size 1080x576 with 1 Axes>"
      ]
     },
     "metadata": {
      "needs_background": "light"
     },
     "output_type": "display_data"
    }
   ],
   "source": [
    "plt.figure(figsize=(15, 8))\n",
    "sns.barplot(x=colleges_lengths10.index, y=colleges_lengths10.values, palette=['red', 'red', 'blue', 'maroon', 'rebeccapurple', 'darkgreen', 'maroon', 'red', 'midnightblue', 'navy'])\n",
    "plt.xticks(rotation=90)\n",
    "plt.ylim(75, 175)\n",
    "plt.title(\"Number of Players drafted by per school since 1994 (top 10)\")"
   ]
  },
  {
   "cell_type": "code",
   "execution_count": 25,
   "id": "f2c0630c-34fa-4862-ac46-fad821693afe",
   "metadata": {},
   "outputs": [],
   "source": [
    "pick_means = drafts.groupby(by='Pick')['wAV'].mean()"
   ]
  },
  {
   "cell_type": "code",
   "execution_count": 34,
   "id": "cb0fff2f-2819-49ba-a706-10363a227e6e",
   "metadata": {},
   "outputs": [
    {
     "data": {
      "text/plain": [
       "Pick\n",
       "1      65.285714\n",
       "4      52.857143\n",
       "2      50.892857\n",
       "13     47.892857\n",
       "6      46.285714\n",
       "11     46.250000\n",
       "12     46.071429\n",
       "7      44.857143\n",
       "3      44.785714\n",
       "5      44.714286\n",
       "24     42.428571\n",
       "8      41.678571\n",
       "9      41.214286\n",
       "36     41.107143\n",
       "19     40.964286\n",
       "14     39.964286\n",
       "21     39.071429\n",
       "10     38.821429\n",
       "18     38.642857\n",
       "17     36.964286\n",
       "16     35.750000\n",
       "15     35.214286\n",
       "20     34.071429\n",
       "34     33.357143\n",
       "28     33.107143\n",
       "27     32.785714\n",
       "32     32.178571\n",
       "23     32.071429\n",
       "33     32.000000\n",
       "26     31.642857\n",
       "30     30.357143\n",
       "35     30.107143\n",
       "42     29.607143\n",
       "37     29.321429\n",
       "46     29.285714\n",
       "31     29.148148\n",
       "25     29.142857\n",
       "47     28.821429\n",
       "55     27.607143\n",
       "73     27.074074\n",
       "44     26.964286\n",
       "61     26.962963\n",
       "22     26.250000\n",
       "50     26.000000\n",
       "64     25.925926\n",
       "63     25.760000\n",
       "109    25.142857\n",
       "60     25.107143\n",
       "71     25.107143\n",
       "29     24.821429\n",
       "39     24.714286\n",
       "48     24.500000\n",
       "65     24.444444\n",
       "91     24.037037\n",
       "38     23.928571\n",
       "66     23.785714\n",
       "43     23.607143\n",
       "58     23.464286\n",
       "78     23.222222\n",
       "52     22.892857\n",
       "92     22.851852\n",
       "57     22.357143\n",
       "49     22.074074\n",
       "41     21.535714\n",
       "45     21.464286\n",
       "51     20.923077\n",
       "126    20.814815\n",
       "98     20.740741\n",
       "154    20.458333\n",
       "53     20.071429\n",
       "62     19.777778\n",
       "112    19.600000\n",
       "81     19.535714\n",
       "59     19.500000\n",
       "75     19.407407\n",
       "86     19.269231\n",
       "40     19.250000\n",
       "89     19.222222\n",
       "84     19.222222\n",
       "83     19.214286\n",
       "76     19.111111\n",
       "56     18.846154\n",
       "199    18.380952\n",
       "70     18.250000\n",
       "54     18.178571\n",
       "69     17.857143\n",
       "74     17.642857\n",
       "120    17.629630\n",
       "88     17.615385\n",
       "100    17.615385\n",
       "146    17.555556\n",
       "67     17.518519\n",
       "108    17.384615\n",
       "102    17.321429\n",
       "135    17.125000\n",
       "72     16.296296\n",
       "99     16.074074\n",
       "200    15.650000\n",
       "149    15.307692\n",
       "137    15.153846\n",
       "77     14.888889\n",
       "68     14.857143\n",
       "119    14.785714\n",
       "173    14.760000\n",
       "224    14.500000\n",
       "94     14.481481\n",
       "105    14.370370\n",
       "95     14.346154\n",
       "113    14.200000\n",
       "79     13.962963\n",
       "128    13.814815\n",
       "90     13.259259\n",
       "207    13.086957\n",
       "250    13.062500\n",
       "187    12.875000\n",
       "117    12.851852\n",
       "125    12.760000\n",
       "130    12.695652\n",
       "114    12.680000\n",
       "151    12.666667\n",
       "166    12.666667\n",
       "159    12.526316\n",
       "193    12.500000\n",
       "93     12.464286\n",
       "142    12.458333\n",
       "106    12.321429\n",
       "96     12.296296\n",
       "169    12.250000\n",
       "242    12.250000\n",
       "80     12.250000\n",
       "85     12.240000\n",
       "103    12.222222\n",
       "104    12.200000\n",
       "97     12.071429\n",
       "131    12.038462\n",
       "111    12.037037\n",
       "122    11.880000\n",
       "134    11.869565\n",
       "138    11.800000\n",
       "152    11.727273\n",
       "168    11.681818\n",
       "153    11.625000\n",
       "118    11.520000\n",
       "218    11.454545\n",
       "143    11.269231\n",
       "230    11.041667\n",
       "233    11.000000\n",
       "124    10.962963\n",
       "145    10.846154\n",
       "248    10.812500\n",
       "244    10.789474\n",
       "141    10.629630\n",
       "191    10.583333\n",
       "87     10.464286\n",
       "255    10.428571\n",
       "181    10.423077\n",
       "188    10.190476\n",
       "195    10.086957\n",
       "101    10.037037\n",
       "140    10.000000\n",
       "139    10.000000\n",
       "216     9.950000\n",
       "132     9.875000\n",
       "129     9.760000\n",
       "164     9.720000\n",
       "213     9.666667\n",
       "123     9.629630\n",
       "177     9.625000\n",
       "133     9.607143\n",
       "150     9.500000\n",
       "147     9.454545\n",
       "174     9.347826\n",
       "165     9.269231\n",
       "252     9.266667\n",
       "155     9.200000\n",
       "160     9.130435\n",
       "110     9.071429\n",
       "161     9.000000\n",
       "163     8.958333\n",
       "82      8.925926\n",
       "144     8.846154\n",
       "203     8.812500\n",
       "115     8.807692\n",
       "157     8.680000\n",
       "127     8.666667\n",
       "136     8.615385\n",
       "178     8.500000\n",
       "116     8.464286\n",
       "251     8.450000\n",
       "156     8.400000\n",
       "182     8.125000\n",
       "189     8.120000\n",
       "209     8.117647\n",
       "180     7.875000\n",
       "175     7.826087\n",
       "210     7.739130\n",
       "197     7.727273\n",
       "107     7.666667\n",
       "198     7.652174\n",
       "162     7.625000\n",
       "243     7.611111\n",
       "158     7.444444\n",
       "205     7.380952\n",
       "194     7.320000\n",
       "239     7.260870\n",
       "229     7.260870\n",
       "190     7.227273\n",
       "204     7.173913\n",
       "226     7.142857\n",
       "208     7.045455\n",
       "167     7.045455\n",
       "148     7.038462\n",
       "186     7.000000\n",
       "219     6.727273\n",
       "220     6.681818\n",
       "249     6.600000\n",
       "241     6.555556\n",
       "235     6.526316\n",
       "222     6.521739\n",
       "179     6.269231\n",
       "232     6.200000\n",
       "246     6.187500\n",
       "215     6.130435\n",
       "253     6.000000\n",
       "221     5.950000\n",
       "121     5.923077\n",
       "196     5.884615\n",
       "202     5.869565\n",
       "228     5.863636\n",
       "214     5.818182\n",
       "172     5.818182\n",
       "170     5.650000\n",
       "245     5.555556\n",
       "237     5.333333\n",
       "225     5.300000\n",
       "171     5.227273\n",
       "206     5.125000\n",
       "240     5.055556\n",
       "192     5.045455\n",
       "201     5.000000\n",
       "256     5.000000\n",
       "238     4.882353\n",
       "184     4.708333\n",
       "217     4.619048\n",
       "234     4.608696\n",
       "223     4.500000\n",
       "254     4.416667\n",
       "176     4.384615\n",
       "227     4.368421\n",
       "183     4.200000\n",
       "211     3.900000\n",
       "212     3.863636\n",
       "185     3.739130\n",
       "257     3.333333\n",
       "231     3.150000\n",
       "247     3.000000\n",
       "236     2.454545\n",
       "260     2.000000\n",
       "259     0.666667\n",
       "258     0.500000\n",
       "261     0.000000\n",
       "Name: wAV, dtype: float64"
      ]
     },
     "execution_count": 34,
     "metadata": {},
     "output_type": "execute_result"
    }
   ],
   "source": [
    "pick_means = pick_means.sort_values(ascending=False)\n",
    "pick_means"
   ]
  },
  {
   "cell_type": "code",
   "execution_count": 33,
   "id": "d48aa9bc-f354-4bae-9a98-f6e275772740",
   "metadata": {},
   "outputs": [
    {
     "data": {
      "text/plain": [
       "Pick\n",
       "1     65.285714\n",
       "4     52.857143\n",
       "2     50.892857\n",
       "13    47.892857\n",
       "6     46.285714\n",
       "11    46.250000\n",
       "12    46.071429\n",
       "7     44.857143\n",
       "3     44.785714\n",
       "5     44.714286\n",
       "Name: wAV, dtype: float64"
      ]
     },
     "execution_count": 33,
     "metadata": {},
     "output_type": "execute_result"
    }
   ],
   "source": [
    "pick_means10 = pick_means[0:10]"
   ]
  },
  {
   "cell_type": "code",
   "execution_count": 32,
   "id": "5893415d-c8b5-45a3-aea2-a90a0b922bb6",
   "metadata": {},
   "outputs": [
    {
     "data": {
      "text/plain": [
       "Text(0.5, 1.0, 'Mean wAV per Pick Number')"
      ]
     },
     "execution_count": 32,
     "metadata": {},
     "output_type": "execute_result"
    },
    {
     "data": {
      "image/png": "[encoded data removed]",
      "text/plain": [
       "<Figure size 1080x576 with 1 Axes>"
      ]
     },
     "metadata": {
      "needs_background": "light"
     },
     "output_type": "display_data"
    }
   ],
   "source": [
    "plt.figure(figsize=(15, 8))\n",
    "sns.barplot(x=pick_means10.index, y=pick_means10.values)\n",
    "plt.xticks(rotation=90)\n",
    "plt.ylim(30, 70)\n",
    "plt.title(\"Mean wAV per Pick Number\")"
   ]
  },
  {
   "cell_type": "code",
   "execution_count": null,
   "id": "7d808847-4acf-435d-933f-8f057e846cef",
   "metadata": {},
   "outputs": [],
   "source": []
  }
 ],
 "metadata": {
  "kernelspec": {
   "display_name": "Python 3",
   "language": "python",
   "name": "python3"
  },
  "language_info": {
   "codemirror_mode": {
    "name": "ipython",
    "version": 3
   },
   "file_extension": ".py",
   "mimetype": "text/x-python",
   "name": "python",
   "nbconvert_exporter": "python",
   "pygments_lexer": "ipython3",
   "version": "3.8.8"
  }
 },
 "nbformat": 4,
 "nbformat_minor": 5
}
